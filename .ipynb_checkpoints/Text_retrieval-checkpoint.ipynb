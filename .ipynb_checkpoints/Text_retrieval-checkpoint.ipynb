{
 "cells": [
  {
   "cell_type": "markdown",
   "id": "5e46ce0c",
   "metadata": {},
   "source": [
    "# RAG实践项目\n",
    "## 一：理论学习"
   ]
  },
  {
   "cell_type": "markdown",
   "id": "a2358fe2",
   "metadata": {},
   "source": [
    "## 二：环境配置"
   ]
  },
  {
   "cell_type": "markdown",
   "id": "699788a9",
   "metadata": {},
   "source": [
    "## 三：读取汽车问答数据"
   ]
  },
  {
   "cell_type": "markdown",
   "id": "b8387478",
   "metadata": {},
   "source": [
    "读取问答数据集"
   ]
  },
  {
   "cell_type": "code",
   "execution_count": 1,
   "id": "3607bed5",
   "metadata": {},
   "outputs": [
    {
     "data": {
      "text/plain": [
       "[{'question': '“前排座椅通风”的相关内容在第几页？', 'answer': '', 'reference': ''},\n",
       " {'question': '\"关于车辆的儿童安全座椅固定装置，在哪一页可以找到相关内容？\"',\n",
       "  'answer': '',\n",
       "  'reference': ''},\n",
       " {'question': '“打开前机舱盖”的相关信息在第几页？', 'answer': '', 'reference': ''},\n",
       " {'question': '“打开前机舱盖”这个操作在哪一页？', 'answer': '', 'reference': ''}]"
      ]
     },
     "execution_count": 1,
     "metadata": {},
     "output_type": "execute_result"
    }
   ],
   "source": [
    "import json\n",
    "import pdfplumber\n",
    "\n",
    "questions = json.load(open(\"questions.json\", encoding='utf-8'))\n",
    "questions[0:4]"
   ]
  },
  {
   "cell_type": "markdown",
   "id": "5b75f8f9",
   "metadata": {},
   "source": [
    "读取可复制的pdf"
   ]
  },
  {
   "cell_type": "markdown",
   "id": "13acf4cc",
   "metadata": {},
   "source": [
    "读取读取第一页内容"
   ]
  },
  {
   "cell_type": "code",
   "execution_count": 2,
   "id": "1101ade6",
   "metadata": {},
   "outputs": [
    {
     "data": {
      "text/plain": [
       "'欢迎\\n感谢您选择了具有优良安全性、舒适性、动力性和经济性的Lynk&Co领克汽车。\\n首次使用前请仔细、完整地阅读本手册内容，将有助于您更好地了解和使用车辆。\\n本手册中的所有资料均为出版时的最新资料，但本公司将对产品进行不断的改进和优化，您所购的车辆可能与本手册中的描述有所不同，请以实际\\n接收的车辆为准。\\n如您有任何问题，或需要预约服务，请拨打电话4006-010101联系我们。您也可以开车前往Lynk&Co领克中心。\\n在抵达之前，请您注意驾车安全。\\n©领克汽车销售有限公司'"
      ]
     },
     "execution_count": 2,
     "metadata": {},
     "output_type": "execute_result"
    }
   ],
   "source": [
    "pdf = pdfplumber.open(\"初赛训练数据集.pdf\")\n",
    "# len(pdf.pages) # 页数\n",
    "pdf.pages[0].extract_text() # 读取第一页内容"
   ]
  },
  {
   "cell_type": "markdown",
   "id": "50467f62",
   "metadata": {},
   "source": [
    "读取所有页内容"
   ]
  },
  {
   "cell_type": "code",
   "execution_count": 3,
   "id": "cae75d1d",
   "metadata": {},
   "outputs": [
    {
     "data": {
      "text/plain": [
       "{'page': 'page_1',\n",
       " 'content': '欢迎\\n感谢您选择了具有优良安全性、舒适性、动力性和经济性的Lynk&Co领克汽车。\\n首次使用前请仔细、完整地阅读本手册内容，将有助于您更好地了解和使用车辆。\\n本手册中的所有资料均为出版时的最新资料，但本公司将对产品进行不断的改进和优化，您所购的车辆可能与本手册中的描述有所不同，请以实际\\n接收的车辆为准。\\n如您有任何问题，或需要预约服务，请拨打电话4006-010101联系我们。您也可以开车前往Lynk&Co领克中心。\\n在抵达之前，请您注意驾车安全。\\n©领克汽车销售有限公司'}"
      ]
     },
     "execution_count": 3,
     "metadata": {},
     "output_type": "execute_result"
    }
   ],
   "source": [
    "pdf_content = []\n",
    "for page_idx in range(len(pdf.pages)):\n",
    "    pdf_content.append({\n",
    "        'page': 'page_' + str(page_idx + 1),\n",
    "        'content': pdf.pages[page_idx].extract_text()\n",
    "    })\n",
    "pdf_content[0]"
   ]
  },
  {
   "cell_type": "markdown",
   "id": "6183fd3f",
   "metadata": {},
   "source": [
    "# 四：文本索引"
   ]
  },
  {
   "cell_type": "markdown",
   "id": "b8beb9a6",
   "metadata": {},
   "source": [
    "TFIDF（Term Frequency-Inverse Document Frequency）是一种用于信息检索和文本挖掘的常用权重计算方法，\n",
    "\n",
    "旨在衡量一个词项对于一个文档集合中某个文档的重要性。该方法结合了两个方面的信息：词项在文档中的频率（TF）和在整个文档集合中的逆文档频率（IDF）。\n"
   ]
  },
  {
   "cell_type": "code",
   "execution_count": 4,
   "id": "1eda44b6",
   "metadata": {},
   "outputs": [
    {
     "name": "stderr",
     "output_type": "stream",
     "text": [
      "Building prefix dict from the default dictionary ...\n",
      "Loading model from cache C:\\Users\\WANGSH~1\\AppData\\Local\\Temp\\jieba.cache\n",
      "Loading model cost 0.576 seconds.\n",
      "Prefix dict has been built successfully.\n"
     ]
    },
    {
     "name": "stdout",
     "output_type": "stream",
     "text": [
      "请问 Lynk & Co 领克 汽车 的 事件 数据 记录 系统 （ EDR ） 主要 记录 哪些 信息 ？\n",
      "前言 \n",
      " 本手册 相关 的 重要 信息   为了 凸显 重点 、 便于 阅读 ， 中央 显示屏 中 的 插图 突出 显示 重点部位 ， \n",
      " 领克 汽车 销售 有限公司 （ 下称 “ Lynk & Co 领克 ” ） 建议您 在 首次 使用   其他 部位 做 了 一些 处理 ， 提示 您 不必 关注 这些 部位 。 \n",
      " 车辆 前 ， 认真 阅读 本手册 内容 。 为了 更好 地 理解 本手册 中 的 内容 ， 您 \n",
      " 需要 了解 以下 所有 信息 。   此 图标 表示 “ 请勿 这样 做 ” 或 “ 请勿 让 此种 情况 发生 ” 。 \n",
      " 提示信息 \n",
      " 警告 ！ \n",
      " 人身 伤害   此 图标 表示 “ 建议 这样 做 ” 或 “ 可以 让 此种 情况 发生 ” 。 \n",
      " ■   警告 标识 提醒您 ： 如未 按照 该 警告 内容 操作 可能 会 对 您 或 他 人造 \n",
      " 成 人身 伤害 或 生命危险 。 \n",
      " 注意 ！   如果 一幅 插图 显示 多个 零件 ， 此 图标 表示 零件 位置 。 \n",
      " 车辆 损坏 风险 \n",
      " ■   注意 标识 提醒您 ： 如未 按照 该 注意事项 操作 可能 会 导致 车辆 损   如果 一幅 插图 包含 两个 以上 动作 ， 此 图标 表示 包含 顺序 的 移动 / \n",
      " 坏 。   动作 。 \n",
      " 如果 一幅 插图 只 包含 一个 动作 ， 此 图标 表示 移动 / 动作 。 \n",
      " 说明 ！ \n",
      " 帮助 信息 \n",
      " 显示 文本 \n",
      " □   在 这里 您 可以 找到 一些 帮助 提示 或 有用 的 详细信息 。 \n",
      " 车辆 显示屏 上 显示 的 文本 或 消息 的 格式 与 普通 文本 不同 （ 例如 ： 取 \n",
      " 消 、 系统 重置 、 路径 编辑 等 ） ， 程序 和 指示 分 多个 步骤 显示 （ 例如 ： \n",
      " 车辆 - 车辆 设置 ） 。 \n",
      " 图标 和 插图 说明 \n",
      " 敬告 用户 \n",
      " 本手册 中 使用 的 插图 和 视频剪辑 仅 是 示意图 ， 展示 车辆 的 某些 特征 或 \n",
      " 功能 ， 用于 辅助 说明 ， 以 帮助 您 理解 。 此外 车辆 功能 也 会 随着 软件版 \n",
      " 为了 您 的 安全 ， 请 您 在 驾驶 车辆 时 遵守 当地 的 法律法规 ， 并 遵循 以下 \n",
      " 本 升级 或 功能 开通 情况 进行 更迭 ， 相应 的 内容 及 插图 可能 会 和 实车存 \n",
      " 注意事项 ： \n",
      " 在 差异 ， 仅供参考 ， 具体情况 请以 实车 为准 。 \n",
      " 11\n"
     ]
    }
   ],
   "source": [
    "import jieba\n",
    "import numpy as np\n",
    "from sklearn.feature_extraction.text import TfidfVectorizer # 从 sklearn 提取的工具，用于将文本转化为TF-IDF特征向量\n",
    "from sklearn.preprocessing import normalize\n",
    "\n",
    "# 对提问和PDF内容进行分词\n",
    "# 将 questions 列表中的提问部分提取出来，使用 jieba.lcut() 进行分词后，词语用空格连接起来。每个提问转换为一个分词后的字符串。\n",
    "# 对PDF内容的 content 部分进行同样的分词操作，将PDF内容中的每页文本转为分词后的字符串。\n",
    "question_words = [' '.join(jieba.lcut(x['question'])) for x in questions]\n",
    "pdf_content_words = [' '.join(jieba.lcut(x['content'])) for x in pdf_content]\n",
    "\n",
    "print(question_words[5])\n",
    "print(pdf_content_words[10])"
   ]
  },
  {
   "cell_type": "code",
   "execution_count": 5,
   "id": "4d853f2d",
   "metadata": {},
   "outputs": [],
   "source": [
    "# 提取TFIDF\n",
    "tfidf = TfidfVectorizer()  # 初始化TF-IDF向量生成器。\n",
    "tfidf.fit(question_words + pdf_content_words) # 使用提问和PDF内容的分词结果一起训练TF-IDF模型，学习词汇及其权重。\n",
    "\n",
    "question_feat = tfidf.transform(question_words) # 将分词后的提问转化为TF-IDF特征向量。\n",
    "pdf_content_feat = tfidf.transform(pdf_content_words) # 将分词后的PDF内容转化为TF-IDF特征向量。"
   ]
  },
  {
   "cell_type": "code",
   "execution_count": 6,
   "id": "5b6d1929",
   "metadata": {},
   "outputs": [],
   "source": [
    "# 进行归一化\n",
    "question_feat = normalize(question_feat)\n",
    "pdf_content_feat = normalize(pdf_content_feat)  # 对PDF内容的特征向量进行归一化处理。这一步是为了计算相似度时，确保向量之间的大小不影响最终结果。\n",
    "\n",
    "# 检索进行排序\n",
    "for query_idx, feat in enumerate(question_feat):\n",
    "    score = feat @ pdf_content_feat.T\n",
    "    score = score.toarray()[0]\n",
    "    max_score_page_idx = score.argsort()[-1] + 1\n",
    "    questions[query_idx]['reference'] = 'page_' + str(max_score_page_idx)\n",
    "\n",
    "# 生成提交结果\n",
    "with open('submit_TFIDF.json', 'w', encoding='utf8') as up:\n",
    "    json.dump(questions, up, ensure_ascii=False, indent=4)"
   ]
  },
  {
   "cell_type": "markdown",
   "id": "132af925",
   "metadata": {},
   "source": [
    "BM25Okapi是BM25算法的一种变体，它在信息检索中用于评估文档与查询之间的相关性。以下是BM25Okapi的原理和打分方式的概述："
   ]
  },
  {
   "cell_type": "code",
   "execution_count": 7,
   "id": "60efc163",
   "metadata": {},
   "outputs": [],
   "source": [
    "from rank_bm25 import BM25Okapi\n",
    "\n",
    "pdf_content_words = [jieba.lcut(x['content']) for x in pdf_content]\n",
    "bm25 = BM25Okapi(pdf_content_words) # 初始化BM25模型，输入为PDF每页的分词结果（即 pdf_content_words），模型会学习每个词在所有页面中的分布。\n",
    "# 在这一步中，BM25会根据词频和逆文档频率（类似TF-IDF的概念）为每个词计算权重，并准备好对后续的查询进行评分\n",
    "\n",
    "for query_idx in range(len(questions)):\n",
    "    doc_scores = bm25.get_scores(jieba.lcut(questions[query_idx][\"question\"]))\n",
    "    # 使用BM25模型计算当前提问与所有PDF页面的相似度得分。bm25.get_scores() 会为当前提问计算每个PDF页面的BM25得分。\n",
    "    # doc_scores 是一个包含每页得分的数组，数组的长度等于PDF的页数。\n",
    "    max_score_page_idx = doc_scores.argsort()[-1] + 1\n",
    "    # doc_scores.argsort() 会对得分数组从小到大进行排序，返回每个得分对应的索引位置。[-1] 表示取出最后一个，也就是得分最高的页面的索引值。\n",
    "    # +1 的操作是因为页面的索引从1开始，而数组的索引是从0开始的，所以需要加1来匹配实际的页码。\n",
    "    questions[query_idx]['reference'] = 'page_' + str(max_score_page_idx)\n",
    "\n",
    "with open('submit_bm25.json', 'w', encoding='utf8') as up:\n",
    "    json.dump(questions, up, ensure_ascii=False, indent=4)"
   ]
  }
 ],
 "metadata": {
  "kernelspec": {
   "display_name": "Python [conda env:python39_nlp]",
   "language": "python",
   "name": "conda-env-python39_nlp-py"
  },
  "language_info": {
   "codemirror_mode": {
    "name": "ipython",
    "version": 3
   },
   "file_extension": ".py",
   "mimetype": "text/x-python",
   "name": "python",
   "nbconvert_exporter": "python",
   "pygments_lexer": "ipython3",
   "version": "3.9.20"
  }
 },
 "nbformat": 4,
 "nbformat_minor": 5
}
