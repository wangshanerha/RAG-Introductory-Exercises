{
 "cells": [
  {
   "cell_type": "markdown",
   "id": "3db0e30e",
   "metadata": {},
   "source": [
    "# 读取汽车问答数据"
   ]
  },
  {
   "cell_type": "markdown",
   "id": "aa154bad",
   "metadata": {},
   "source": [
    "读取问答数据集"
   ]
  },
  {
   "cell_type": "code",
   "execution_count": 1,
   "id": "88b5eab6",
   "metadata": {},
   "outputs": [
    {
     "data": {
      "text/plain": [
       "[{'question': '“前排座椅通风”的相关内容在第几页？', 'answer': '', 'reference': ''},\n",
       " {'question': '\"关于车辆的儿童安全座椅固定装置，在哪一页可以找到相关内容？\"',\n",
       "  'answer': '',\n",
       "  'reference': ''},\n",
       " {'question': '“打开前机舱盖”的相关信息在第几页？', 'answer': '', 'reference': ''},\n",
       " {'question': '“打开前机舱盖”这个操作在哪一页？', 'answer': '', 'reference': ''},\n",
       " {'question': '“查看行车记录仪视频”这一项内容在第几页？', 'answer': '', 'reference': ''},\n",
       " {'question': '请问Lynk&Co领克汽车的事件数据记录系统（EDR）主要记录哪些信息？',\n",
       "  'answer': '',\n",
       "  'reference': ''},\n",
       " {'question': '问题：事件数据记录系统（EDR）中的数据是否可以被黑客利用进行恶意攻击？',\n",
       "  'answer': '',\n",
       "  'reference': ''},\n",
       " {'question': '问题：在国家环保法要求下，哪些情况下需要对车辆进行报废处理？', 'answer': '', 'reference': ''},\n",
       " {'question': '请问，如果车辆报废后，原车主是否还能使用该车辆的智能互联服务？',\n",
       "  'answer': '',\n",
       "  'reference': ''},\n",
       " {'question': '如何确保用车前的准备工作万无一失？', 'answer': '', 'reference': ''}]"
      ]
     },
     "execution_count": 1,
     "metadata": {},
     "output_type": "execute_result"
    }
   ],
   "source": [
    "import json\n",
    "import pdfplumber\n",
    "\n",
    "questions = json.load(open(\"questions.json\", encoding='utf-8'))\n",
    "questions[0:10]"
   ]
  },
  {
   "cell_type": "markdown",
   "id": "488794a2",
   "metadata": {},
   "source": [
    "读取可复制的pdf"
   ]
  },
  {
   "cell_type": "markdown",
   "id": "7c24525f",
   "metadata": {},
   "source": [
    "读取读取第一页内容"
   ]
  },
  {
   "cell_type": "code",
   "execution_count": 2,
   "id": "ea0585c7",
   "metadata": {},
   "outputs": [
    {
     "data": {
      "text/plain": [
       "'欢迎\\n感谢您选择了具有优良安全性、舒适性、动力性和经济性的Lynk&Co领克汽车。\\n首次使用前请仔细、完整地阅读本手册内容，将有助于您更好地了解和使用车辆。\\n本手册中的所有资料均为出版时的最新资料，但本公司将对产品进行不断的改进和优化，您所购的车辆可能与本手册中的描述有所不同，请以实际\\n接收的车辆为准。\\n如您有任何问题，或需要预约服务，请拨打电话4006-010101联系我们。您也可以开车前往Lynk&Co领克中心。\\n在抵达之前，请您注意驾车安全。\\n©领克汽车销售有限公司'"
      ]
     },
     "execution_count": 2,
     "metadata": {},
     "output_type": "execute_result"
    }
   ],
   "source": [
    "pdf = pdfplumber.open(\"初赛训练数据集.pdf\")\n",
    "# len(pdf.pages) # 页数\n",
    "pdf.pages[0].extract_text() # 读取第一页内容"
   ]
  },
  {
   "cell_type": "markdown",
   "id": "01f98d5e",
   "metadata": {},
   "source": [
    "读取所有页内容"
   ]
  },
  {
   "cell_type": "code",
   "execution_count": 3,
   "id": "0d601817",
   "metadata": {},
   "outputs": [
    {
     "data": {
      "text/plain": [
       "({'page': 'page_1',\n",
       "  'content': '欢迎\\n感谢您选择了具有优良安全性、舒适性、动力性和经济性的Lynk&Co领克汽车。\\n首次使用前请仔细、完整地阅读本手册内容，将有助于您更好地了解和使用车辆。\\n本手册中的所有资料均为出版时的最新资料，但本公司将对产品进行不断的改进和优化，您所购的车辆可能与本手册中的描述有所不同，请以实际\\n接收的车辆为准。\\n如您有任何问题，或需要预约服务，请拨打电话4006-010101联系我们。您也可以开车前往Lynk&Co领克中心。\\n在抵达之前，请您注意驾车安全。\\n©领克汽车销售有限公司'},\n",
       " {'page': 'page_11',\n",
       "  'content': '前言\\n本手册相关的重要信息 为了凸显重点、便于阅读，中央显示屏中的插图突出显示重点部位，\\n领克汽车销售有限公司（下称“Lynk&Co领克”）建议您在首次使用 其他部位做了一些处理，提示您不必关注这些部位。\\n车辆前，认真阅读本手册内容。为了更好地理解本手册中的内容，您\\n需要了解以下所有信息。 此图标表示“请勿这样做”或“请勿让此种情况发生”。\\n提示信息\\n警告！\\n人身伤害 此图标表示“建议这样做”或“可以让此种情况发生”。\\n■ 警告标识提醒您：如未按照该警告内容操作可能会对您或他人造\\n成人身伤害或生命危险。\\n注意！ 如果一幅插图显示多个零件，此图标表示零件位置。\\n车辆损坏风险\\n■ 注意标识提醒您：如未按照该注意事项操作可能会导致车辆损 如果一幅插图包含两个以上动作，此图标表示包含顺序的移动/\\n坏。 动作。\\n如果一幅插图只包含一个动作，此图标表示移动/动作。\\n说明！\\n帮助信息\\n显示文本\\n□ 在这里您可以找到一些帮助提示或有用的详细信息。\\n车辆显示屏上显示的文本或消息的格式与普通文本不同（例如：取\\n消、系统重置、路径编辑等），程序和指示分多个步骤显示（例如：\\n车辆-车辆设置）。\\n图标和插图说明\\n敬告用户\\n本手册中使用的插图和视频剪辑仅是示意图，展示车辆的某些特征或\\n功能，用于辅助说明，以帮助您理解。此外车辆功能也会随着软件版\\n为了您的安全，请您在驾驶车辆时遵守当地的法律法规，并遵循以下\\n本升级或功能开通情况进行更迭，相应的内容及插图可能会和实车存\\n注意事项：\\n在差异，仅供参考，具体情况请以实车为准。\\n11'})"
      ]
     },
     "execution_count": 3,
     "metadata": {},
     "output_type": "execute_result"
    }
   ],
   "source": [
    "pdf_content = []\n",
    "for page_idx in range(len(pdf.pages)):\n",
    "    pdf_content.append({\n",
    "        'page': 'page_' + str(page_idx + 1),\n",
    "        'content': pdf.pages[page_idx].extract_text()\n",
    "    })\n",
    "pdf_content[0],pdf_content[10]"
   ]
  },
  {
   "cell_type": "code",
   "execution_count": 4,
   "id": "27c106cd",
   "metadata": {},
   "outputs": [],
   "source": [
    "from zhipuai import ZhipuAI\n",
    "\n",
    "def ask_glm(content):\n",
    "    # 初始化ZhipuAI客户端，填写你的API Key\n",
    "    client = ZhipuAI(api_key=\"f037f80bb31908ef8d2159b5e4f17e6d.kDBaHZjpplHWU6pl\")\n",
    "    \n",
    "    # 调用ZhipuAI的chat.completions接口，传入参数\n",
    "    response = client.chat.completions.create(\n",
    "        model=\"glm-4-flash\",  # 指定模型名称\n",
    "        messages=[\n",
    "            {\"role\": \"user\", \"content\": content}  # 使用传入的content作为对话的用户输入\n",
    "        ],\n",
    "    )\n",
    "    \n",
    "    # 返回响应中的生成结果\n",
    "    return response.choices[0].message"
   ]
  },
  {
   "cell_type": "code",
   "execution_count": 5,
   "id": "78b8d901",
   "metadata": {},
   "outputs": [
    {
     "name": "stdout",
     "output_type": "stream",
     "text": [
      "CompletionMessage(content='根据提供的资料目录，关于车辆的儿童安全座椅固定装置的相关内容没有直接标注在目录中。因此，结合给定的资料，无法回答关于车辆儿童安全座椅固定装置在哪一页可以找到的问题。', role='assistant', tool_calls=None)\n"
     ]
    }
   ],
   "source": [
    "    prompt = '''你是一个汽车专家，帮我结合给定的资料，回答一个问题。如果问题无法从资料中获得，请输出结合给定的资料，无法回答问题。\n",
    "资料：{0}\n",
    "\n",
    "问题：{1}\n",
    "    '''.format(\n",
    "        pdf_content[2]['content'],\n",
    "        questions[1][\"question\"]\n",
    "    )\n",
    "#     answer = ask_glm(prompt)['choices'][0]['message']['content']\n",
    "    answer = ask_glm(prompt)\n",
    "    print(answer)"
   ]
  },
  {
   "cell_type": "code",
   "execution_count": 6,
   "id": "69c8229a",
   "metadata": {},
   "outputs": [],
   "source": [
    "# 实际KEY，过期时间\n",
    "def generate_token(apikey: str, exp_seconds: int):\n",
    "    try:\n",
    "        id, secret = apikey.split(\".\")\n",
    "    except Exception as e:\n",
    "        raise Exception(\"invalid apikey\", e)\n",
    "\n",
    "    payload = {\n",
    "        \"api_key\": id,\n",
    "        \"exp\": int(round(time.time() * 1000)) + exp_seconds * 1000,\n",
    "        \"timestamp\": int(round(time.time() * 1000)),\n",
    "    }\n",
    "    return jwt.encode(\n",
    "        payload,\n",
    "        secret,\n",
    "        algorithm=\"HS256\",\n",
    "        headers={\"alg\": \"HS256\", \"sign_type\": \"SIGN\"},\n",
    "    )"
   ]
  },
  {
   "cell_type": "code",
   "execution_count": null,
   "id": "664a395c",
   "metadata": {},
   "outputs": [
    {
     "name": "stderr",
     "output_type": "stream",
     "text": [
      "D:\\anaconda\\envs\\python39_nlp\\lib\\site-packages\\sentence_transformers\\cross_encoder\\CrossEncoder.py:11: TqdmWarning: IProgress not found. Please update jupyter and ipywidgets. See https://ipywidgets.readthedocs.io/en/stable/user_install.html\n",
      "  from tqdm.autonotebook import tqdm, trange\n",
      "D:\\anaconda\\envs\\python39_nlp\\lib\\site-packages\\transformers\\utils\\generic.py:441: FutureWarning: `torch.utils._pytree._register_pytree_node` is deprecated. Please use `torch.utils._pytree.register_pytree_node` instead.\n",
      "  _torch_pytree._register_pytree_node(\n",
      "D:\\anaconda\\envs\\python39_nlp\\lib\\site-packages\\transformers\\utils\\generic.py:309: FutureWarning: `torch.utils._pytree._register_pytree_node` is deprecated. Please use `torch.utils._pytree.register_pytree_node` instead.\n",
      "  _torch_pytree._register_pytree_node(\n",
      "D:\\anaconda\\envs\\python39_nlp\\lib\\site-packages\\transformers\\modeling_utils.py:519: FutureWarning: You are using `torch.load` with `weights_only=False` (the current default value), which uses the default pickle module implicitly. It is possible to construct malicious pickle data which will execute arbitrary code during unpickling (See https://github.com/pytorch/pytorch/blob/main/SECURITY.md#untrusted-models for more details). In a future release, the default value for `weights_only` will be flipped to `True`. This limits the functions that could be executed during unpickling. Arbitrary objects will no longer be allowed to be loaded via this mode unless they are explicitly allowlisted by the user via `torch.serialization.add_safe_globals`. We recommend you start setting `weights_only=True` for any use case where you don't have full control of the loaded file. Please open an issue on GitHub for any issues related to this experimental feature.\n",
      "  return torch.load(checkpoint_file, map_location=map_location)\n"
     ]
    }
   ],
   "source": [
    "import jieba, json, pdfplumber\n",
    "import numpy as np\n",
    "from sklearn.feature_extraction.text import TfidfVectorizer\n",
    "from sklearn.preprocessing import normalize\n",
    "from rank_bm25 import BM25Okapi\n",
    "import torch\n",
    "from sentence_transformers import SentenceTransformer\n",
    "\n",
    "model = SentenceTransformer('bce-embedding-base_v1')\n",
    "\n",
    "question_sentences = [x['question'] for x in questions]\n",
    "pdf_content_sentences = [x['content'] for x in pdf_content]"
   ]
  },
  {
   "cell_type": "code",
   "execution_count": null,
   "id": "ee5c3319",
   "metadata": {
    "scrolled": true
   },
   "outputs": [],
   "source": [
    "question_embeddings = model.encode(question_sentences, normalize_embeddings=True)\n",
    "pdf_embeddings = model.encode(pdf_content_sentences, normalize_embeddings=True)\n",
    "    # normalize_embeddings=True：在生成嵌入时，将向量归一化处理（每个向量的L2范数变为1），确保相似度计算时的结果不会受到向量大小的影响。\n",
    "\n",
    "for query_idx, feat in enumerate(question_embeddings):\n",
    "    score = feat @ pdf_embeddings.T\n",
    "    max_score_page_idx = score.argsort()[-1]+1  # max_score_page_idx 在PDF中可能会溢出，因为答案的page要加一\n",
    "#     print(score.argsort())\n",
    "    page = score.argsort()[-1]\n",
    "    questions[query_idx]['reference'] = 'page_' + str(max_score_page_idx)\n",
    "    \n",
    "    prompt = '''你是一个汽车专家，帮我结合给定的资料，回答一个问题。如果问题无法从资料中获得，请输出结合给定的资料，无法回答问题。\n",
    "资料：{0}\n",
    "\n",
    "问题：{1}\n",
    "    '''.format(\n",
    "        pdf_content[page]['content'],  # 实际的内容在page页\n",
    "        questions[query_idx][\"question\"]\n",
    "    )\n",
    "    answer = ask_glm(prompt)\n",
    "    questions[query_idx]['answer'] = answer.content\n",
    "    print(answer.content)\n",
    "    print(page,max_score_page_idx)\n",
    "    print(\"********\")"
   ]
  },
  {
   "cell_type": "code",
   "execution_count": null,
   "id": "e6c6f578",
   "metadata": {},
   "outputs": [],
   "source": [
    "questions[1]"
   ]
  },
  {
   "cell_type": "code",
   "execution_count": null,
   "id": "cb74b288",
   "metadata": {},
   "outputs": [],
   "source": [
    "with open('submit_llm+rag_bce.json', 'w', encoding='utf8') as up:\n",
    "    json.dump(questions, up, ensure_ascii=False, indent=4)"
   ]
  },
  {
   "cell_type": "code",
   "execution_count": null,
   "id": "0fdab31c",
   "metadata": {},
   "outputs": [],
   "source": []
  },
  {
   "cell_type": "code",
   "execution_count": null,
   "id": "087838b0",
   "metadata": {},
   "outputs": [],
   "source": []
  }
 ],
 "metadata": {
  "kernelspec": {
   "display_name": "Python [conda env:python39_nlp]",
   "language": "python",
   "name": "conda-env-python39_nlp-py"
  },
  "language_info": {
   "codemirror_mode": {
    "name": "ipython",
    "version": 3
   },
   "file_extension": ".py",
   "mimetype": "text/x-python",
   "name": "python",
   "nbconvert_exporter": "python",
   "pygments_lexer": "ipython3",
   "version": "3.9.20"
  }
 },
 "nbformat": 4,
 "nbformat_minor": 5
}
